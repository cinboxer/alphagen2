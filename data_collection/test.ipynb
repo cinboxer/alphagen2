{
 "cells": [
  {
   "cell_type": "code",
   "execution_count": 1,
   "metadata": {},
   "outputs": [],
   "source": [
    "import pandas as pd\n",
    "import os\n",
    "import shutil\n",
    "import datetime\n",
    "from pathlib import Path\n",
    "from tqdm import tqdm\n",
    "from typing import List, Optional\n",
    "from concurrent.futures import ProcessPoolExecutor, as_completed\n",
    "from contextlib import redirect_stdout\n",
    "\n",
    "import baostock as bs\n",
    "from baostock.data.resultset import ResultData\n",
    "\n",
    "from qlib_dump_bin import DumpDataAll"
   ]
  },
  {
   "cell_type": "code",
   "execution_count": 2,
   "metadata": {},
   "outputs": [
    {
     "name": "stdout",
     "output_type": "stream",
     "text": [
      "login success!\n",
      "<baostock.data.resultset.ResultData object at 0x000001F7CD2D0340>\n",
      "logout success!\n"
     ]
    },
    {
     "data": {
      "text/plain": [
       "<baostock.data.resultset.ResultData at 0x1f7cd2d0370>"
      ]
     },
     "execution_count": 2,
     "metadata": {},
     "output_type": "execute_result"
    }
   ],
   "source": [
    "lg = bs.login()\n",
    "qry = bs.query_all_stock(day=str(datetime.date.today()))\n",
    "print(qry)\n",
    "bs.logout()"
   ]
  },
  {
   "cell_type": "code",
   "execution_count": 8,
   "metadata": {},
   "outputs": [
    {
     "name": "stdout",
     "output_type": "stream",
     "text": [
      "login failed!\n"
     ]
    }
   ],
   "source": [
    "lg = bs.login()"
   ]
  },
  {
   "cell_type": "code",
   "execution_count": 3,
   "metadata": {},
   "outputs": [
    {
     "name": "stdout",
     "output_type": "stream",
     "text": [
      "login success!\n",
      "login respond error_code:0\n",
      "login respond error_msg:success\n",
      "query_hs300 error_code:0\n",
      "query_hs300 error_msg:success\n",
      "logout success!\n"
     ]
    },
    {
     "data": {
      "text/plain": [
       "<baostock.data.resultset.ResultData at 0x1f7cd2d0a90>"
      ]
     },
     "execution_count": 3,
     "metadata": {},
     "output_type": "execute_result"
    }
   ],
   "source": [
    "# 登陆系统\n",
    "lg = bs.login()\n",
    "\n",
    "# 显示登陆返回信息\n",
    "print('login respond error_code:'+lg.error_code)\n",
    "print('login respond error_msg:'+lg.error_msg)\n",
    "\n",
    "# 获取沪深300成分股\n",
    "rs = bs.query_hs300_stocks()\n",
    "print('query_hs300 error_code:'+rs.error_code)\n",
    "print('query_hs300 error_msg:'+rs.error_msg)\n",
    "\n",
    "# 打印结果集\n",
    "hs300_stocks = []\n",
    "while (rs.error_code == '0') & rs.next():\n",
    "# 获取一条记录，将记录合并在一起\n",
    "    hs300_stocks.append(rs.get_row_data())\n",
    "CSI300 = pd.DataFrame(hs300_stocks, columns=rs.fields)\n",
    "# 结果集输出到csv文件\n",
    "#result.to_csv(\"D:/hs300_stocks.csv\", encoding=\"gbk\", index=False)\n",
    "# 登出系统\n",
    "\n",
    "bs.logout()"
   ]
  }
 ],
 "metadata": {
  "kernelspec": {
   "display_name": "alphagen",
   "language": "python",
   "name": "python3"
  },
  "language_info": {
   "codemirror_mode": {
    "name": "ipython",
    "version": 3
   },
   "file_extension": ".py",
   "mimetype": "text/x-python",
   "name": "python",
   "nbconvert_exporter": "python",
   "pygments_lexer": "ipython3",
   "version": "3.8.19"
  }
 },
 "nbformat": 4,
 "nbformat_minor": 2
}
